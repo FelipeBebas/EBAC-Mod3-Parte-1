{
 "cells": [
  {
   "cell_type": "markdown",
   "metadata": {},
   "source": [
    "### 01 - Teste de gravidez\n",
    "Escreva uma célula com controle de fluxos que tem como premissa a existência das seguintes variáveis:\n",
    "\n",
    "- ```sexo``` como ```str``` indicando os valores '**M**' para masculino e '**F**' para feminino  \n",
    "- ```beta_hcg``` que indica a quantidade do beta-HCG no sangue em mUI/mL.\n",
    "\n",
    "A sua tarefa é escrever um código que imprima como resultado \"indivíduo do sexo masculino\" quando sexo = 'M', caso sexo = 'F', se o valor de beta-HCG for maior que 5, retorne \"Positivo\" indicando que a paciente está grávida, e retorne \"Negativo\" caso contrário.\n",
    "\n",
    "Não mexa nos valores da variável ```sexo``` nem em ```beta_hcg```, e escreva um código que funcione para quaisquer valores possíveis de ambos: ```sexo``` = '**M**' ou '**F**' e ```beta_hcg``` assumindo valores inteiros positivos."
   ]
  },
  {
   "cell_type": "code",
   "execution_count": 23,
   "metadata": {
    "tags": []
   },
   "outputs": [
    {
     "name": "stdout",
     "output_type": "stream",
     "text": [
      "indivíduo do sexo masculino.\n",
      "Negativo: O valor do beta-HCG não indica gravidez.\n"
     ]
    }
   ],
   "source": [
    "sexo = 'M'\n",
    "beta_hcg = 0\n",
    "\n",
    "# seu código vem abaixo desta linha\n",
    "\n",
    "sexo = 'M'\n",
    "beta_hcg = 0\n",
    "\n",
    "# seu código vem abaixo desta linha\n",
    "\n",
    "if sexo == 'M':\n",
    "    print('indivíduo do sexo masculino.')\n",
    "    \n",
    "if sexo =='F':\n",
    "    print('indivíduo do sexo feminino.')\n",
    "\n",
    "if beta_hcg >= 5:\n",
    "    print('Positivo: O valor do beta-HCG indica gravidez.')\n",
    "else:\n",
    "    print('Negativo: O valor do beta-HCG não indica gravidez.')"
   ]
  },
  {
   "cell_type": "markdown",
   "metadata": {},
   "source": [
    "### 02 - Renomeando variáveis\n",
    "\n",
    "Vamos ver adiante que uma forma de renomear variáveis de um conjunto de dados é através de dicionários - o dicionário deve conter como chave o nome original, associando a cada chave um único valor (tipo *str*) que contenha o nome novo.\n",
    "\n",
    "A sua tarefa é escrever um dicionário que possa ser utilizado para traduzir as variáveis ```name``` (nome), ```age``` (idade) e ```income``` (renda). Ou seja, esse dicionário deve relacionar as chaves *name, age* e *income* às suas respectivas traduções."
   ]
  },
  {
   "cell_type": "code",
   "execution_count": 25,
   "metadata": {
    "tags": []
   },
   "outputs": [
    {
     "name": "stdout",
     "output_type": "stream",
     "text": [
      "{'name': 'nome', 'age': 'idade', 'income': 'renda'}\n"
     ]
    }
   ],
   "source": [
    "dic_renomeacao = {'': ''}\n",
    "dic_renomeacao = {'name': 'nome','age': 'idade','income': 'renda'}\n",
    "print(dic_renomeacao)"
   ]
  },
  {
   "cell_type": "markdown",
   "metadata": {},
   "source": [
    "### 03 - É divisível?\n",
    "A sua tarefa é escrever um código que indique se um número ```N``` é divisível por um número P. Escreva um programa que faça essa verificação para quaisquer combinações de ```N``` e ```M``` e devolva uma mensagem indicativa no output."
   ]
  },
  {
   "cell_type": "code",
   "execution_count": 49,
   "metadata": {
    "tags": []
   },
   "outputs": [
    {
     "name": "stdin",
     "output_type": "stream",
     "text": [
      "Por favor, digite o valor de P:  6\n"
     ]
    },
    {
     "name": "stdout",
     "output_type": "stream",
     "text": [
      "42 é divisivel por 6.\n",
      "7 não é divisivel por 6.\n"
     ]
    }
   ],
   "source": [
    "N = 42\n",
    "M = 7\n",
    "\n",
    "#Seu código\n",
    "\n",
    "# criando uma classe para verificação \n",
    "\n",
    "def ver_divisivel (numero, divisor):\n",
    "    if divisor == 0:\n",
    "        return f'Não é possível dividir por 0'\n",
    "    if numero % divisor == 0:\n",
    "        return f'{numero} é divisivel por {divisor}.'\n",
    "    else:\n",
    "        return f'{numero} não é divisivel por {divisor}.'\n",
    "\n",
    "P = int(input('Por favor, digite o valor de P: '))\n",
    "\n",
    "resultado_NP = ver_divisivel(N,P)\n",
    "print(resultado_NP)\n",
    "\n",
    "resultado_MP = ver_divisivel(M,P)\n",
    "print(resultado_MP)\n"
   ]
  },
  {
   "cell_type": "markdown",
   "metadata": {},
   "source": [
    "### 04 - Números primos\n",
    "> Um número **N** é primo se e somente se é divisível por 1, -1, por **N** e por -**N**.  \n",
    "\n",
    "Escreva um script que verifica se ```N``` é um número primo, verificando se ```N``` é divisível por todos os números de ```1``` a ```N-1```. Você vai precisar usar alguma ferramenta de *loop* que você aprendeu para isto. No final, devolva uma mensagem no output indicando se o número é primo ou não."
   ]
  },
  {
   "cell_type": "code",
   "execution_count": 145,
   "metadata": {
    "tags": []
   },
   "outputs": [
    {
     "name": "stdout",
     "output_type": "stream",
     "text": [
      "1\n",
      "2\n",
      "3\n",
      "2\n",
      "5\n",
      "5\n",
      "7\n",
      "2\n",
      "7\n",
      "3\n",
      "11\n",
      "8\n",
      "5\n",
      "2\n",
      "15\n",
      "13\n",
      "11\n",
      "9\n",
      "7\n",
      "5\n",
      "3\n",
      "1\n",
      "23\n",
      "22\n",
      "21\n",
      "20\n",
      "19\n",
      "18\n",
      "17\n",
      "16\n",
      "15\n",
      "14\n",
      "13\n",
      "12\n",
      "11\n",
      "10\n",
      "9\n",
      "8\n",
      "7\n",
      "6\n",
      "5\n",
      "4\n",
      "3\n",
      "2\n",
      "1\n",
      "47 é um número primo.\n"
     ]
    }
   ],
   "source": [
    "N = 47\n",
    "\n",
    "# seu código abaixo\n",
    "\n",
    "# Cola de números primos: 2, 3, 5, 7, 11, 13, 17, 19, 23, 29, 31, 37, 41, 43, 47, 53, 59, 61, 67, 71, 73, 79, 83, 89, 97\n",
    "# Verificar se o número é primo dividindo por -1 e por -N? Fiquei confuso.\n",
    "# criar uma condição para verificar se o número é primo\n",
    "\n",
    "ePrimo = True\n",
    "divisor = 2\n",
    "\n",
    "for i in range (divisor, N):\n",
    "    divisao = N % i\n",
    "    print(divisao)\n",
    "    if divisao == 0:\n",
    "        ePrimo = False\n",
    "\n",
    "        \n",
    "if ePrimo == True:\n",
    "    print(f'{N} é um número primo.')\n",
    "else:\n",
    "    print(f'{N} não é um número primo.')\n",
    "\n"
   ]
  },
  {
   "cell_type": "markdown",
   "metadata": {},
   "source": [
    "### 05 - Desafio\n",
    "O algorítmo do exercício anterior não é o mais eficiente. O que você pode fazer para deixá-lo mais eficiente? Ou seja, executar menos comparações, portanto consumir menos tempo.\n",
    "1. Será que precisamos correr o loop até o final sempre?\n",
    "2. Será que precisamos mesmo verificar **todos** os números?\n",
    "3. Será que precisamos ir até N-1?\n",
    "\n",
    "Essas perguntas levam ao tipo de pensamento voltado a deixar um algoritmo mais eficiente. Veja se você consegue melhorar o seu."
   ]
  },
  {
   "cell_type": "code",
   "execution_count": 160,
   "metadata": {
    "tags": []
   },
   "outputs": [
    {
     "name": "stdout",
     "output_type": "stream",
     "text": [
      "98 não é um número primo.\n"
     ]
    }
   ],
   "source": [
    "N = 98\n",
    "\n",
    "# seu código aqui\n",
    "\n",
    "ePrimo = True\n",
    "divisor = 2\n",
    "\n",
    "while divisor < N:\n",
    "    \n",
    "    if N % divisor == 0:\n",
    "        ePrimo = False\n",
    "    divisor += 1\n",
    "\n",
    "if ePrimo == True:\n",
    "    print(f'{N} é um número primo.')\n",
    "else:\n",
    "    print(f'{N} não é um número primo.')\n"
   ]
  },
  {
   "cell_type": "markdown",
   "metadata": {},
   "source": [
    "### 06 - Peso ideal 1\n",
    "O IMC (índice de massa corpórea) é um indicador de saúde mais bem aceito que o peso. Ele é calculado como:\n",
    "\n",
    "$$ IMC = \\dfrac{peso}{altura^2}$$\n",
    "\n",
    "Segundo a OMS, valores *normais* são entre 18.5 e 24.9.\n",
    "\n",
    "Sua tarefa é encontrar o ponto médio dessa faixa."
   ]
  },
  {
   "cell_type": "code",
   "execution_count": 66,
   "metadata": {
    "tags": []
   },
   "outputs": [
    {
     "data": {
      "text/plain": [
       "21.7"
      ]
     },
     "execution_count": 66,
     "metadata": {},
     "output_type": "execute_result"
    }
   ],
   "source": [
    "peso_min = 18.5\n",
    "peso_max = 24.9\n",
    "\n",
    "#Cálculo do ponto médio:\n",
    "\n",
    "imc_ideal =  (peso_min + peso_max)/2\n",
    "imc_ideal\n"
   ]
  },
  {
   "cell_type": "markdown",
   "metadata": {},
   "source": [
    "### 07 - Peso ideal 2\n",
    "Recebendo um valor de altura, encontre o peso '*ideal*' dessa pessoa, que fornece o IMC encontrado acima"
   ]
  },
  {
   "cell_type": "code",
   "execution_count": 183,
   "metadata": {
    "tags": []
   },
   "outputs": [
    {
     "name": "stdin",
     "output_type": "stream",
     "text": [
      "Insira o peso em kg:  55\n"
     ]
    },
    {
     "name": "stdout",
     "output_type": "stream",
     "text": [
      "Para a altura de 1.7 peso de 55 está dentro do IMC esperado.\n",
      "O IMC calculado foi de 19.03\n"
     ]
    }
   ],
   "source": [
    "altura = 1.70\n",
    "\n",
    "# Seu código\n",
    "#cola de imc: 55kg é 19.03\n",
    "\n",
    "imc_min = 18.5\n",
    "imc_max = 24.9\n",
    "\n",
    "P = int(input('Insira o peso em kg: '))\n",
    "\n",
    "calculo_imc = P / (altura **2)\n",
    "\n",
    "if calculo_imc < imc_max and calculo_imc > imc_min:\n",
    "    print(f'Para a altura de {altura} peso de {P} está dentro do IMC esperado.')\n",
    "else:\n",
    "    print(f'Para a altura de {altura} peso de {P} está fora do IMC esperado.')\n",
    "\n",
    "print(f'O IMC calculado foi de {calculo_imc:.2f}')"
   ]
  },
  {
   "cell_type": "markdown",
   "metadata": {},
   "source": [
    "#### 08 - Peso ideal 3\n",
    "Dada uma lista contendo as alturas de pacientes, crie uma nova lista que contenha o peso '*ideal*' (que fornece o IMC calculado em **Peso ideal 1**) desses pacientes."
   ]
  },
  {
   "cell_type": "code",
   "execution_count": 136,
   "metadata": {
    "tags": []
   },
   "outputs": [
    {
     "data": {
      "text/plain": [
       "[82.51, 91.19, 62.71, 59.08]"
      ]
     },
     "execution_count": 136,
     "metadata": {},
     "output_type": "execute_result"
    }
   ],
   "source": [
    "lista_alturas = [1.95, 2.05, 1.70, 1.65]\n",
    "\n",
    "lista_peso_ideal = []\n",
    "\n",
    "# seu código\n",
    "\n",
    "# Se eu entendi corretamenta é para usar o ponto médio calculado no exercicio 6, que é de 21.7. Ou seja, cada item da lista será comparado ao ponto médio de IMC.\n",
    "ponto_medio_imc = 21.7\n",
    "\n",
    "for altura in lista_alturas:\n",
    "    peso_ideal = round(ponto_medio_imc * (altura ** 2),2)\n",
    "    lista_peso_ideal.append(peso_ideal)\n",
    "    \n",
    "\n",
    "lista_peso_ideal"
   ]
  },
  {
   "cell_type": "markdown",
   "metadata": {},
   "source": [
    "### 09 - Peso ideal 4\n",
    "Dada uma lista de tuplas - cada elemento da lista é uma tupla contendo altura e peso de um paciente - crie uma nova lista com o IMC desses pacientes."
   ]
  },
  {
   "cell_type": "code",
   "execution_count": 217,
   "metadata": {
    "tags": []
   },
   "outputs": [
    {
     "data": {
      "text/plain": [
       "[27.78, 27.55, 19.19]"
      ]
     },
     "execution_count": 217,
     "metadata": {},
     "output_type": "execute_result"
    }
   ],
   "source": [
    "altura_peso = [(1.80, 90), (1.65, 75), (1.91, 70)]\n",
    "\n",
    "imc = []\n",
    "\n",
    "# seu código\n",
    "\n",
    "#calcular cada item da tupla em um loop: imc -> altura, peso \n",
    "\n",
    "for i in altura_peso:\n",
    "    altura = i[0]\n",
    "    peso = i[1]\n",
    "    #print(altura)\n",
    "    #print(peso)\n",
    "    imc_calculo = peso / (altura **2)\n",
    "    imc.append(round(imc_calculo,2))\n",
    "    \n",
    "imc"
   ]
  },
  {
   "cell_type": "markdown",
   "metadata": {},
   "source": [
    "### 10 - Peso ideal 5\n",
    "Dada uma lista de **listas** - cada elemento da lista é uma **lista** contendo altura e peso de um paciente, adicione mais um elemento à lista de cada paciente contendo o IMC do paciente. Verifique também se é 'baixo', 'normal' ou 'alto' segundo os padrões da OMS em que normal é entre 18.5 e 24.9.\n",
    "\n",
    "Reflexão: por que no problema anterior temos que criar uma nova lista, e não podemos adicionar os dados de cada indivíduo à tupla?"
   ]
  },
  {
   "cell_type": "code",
   "execution_count": 247,
   "metadata": {
    "tags": []
   },
   "outputs": [
    {
     "data": {
      "text/plain": [
       "['27.78 Acima do IMC', '27.55 Acima do IMC', '19.19 IMC na média']"
      ]
     },
     "execution_count": 247,
     "metadata": {},
     "output_type": "execute_result"
    }
   ],
   "source": [
    "altura_peso = [[1.80, 90], [1.65, 75], [1.91, 70]]\n",
    "\n",
    "# seu código\n",
    "\n",
    "imc_resultados = []\n",
    "\n",
    "#criar um verificador de IMC a partir de valores pre-determinados\n",
    "#Reflexão: por que no problema anterior temos que criar uma nova lista, e não podemos adicionar os dados de cada indivíduo à tupla? \n",
    "#Tuplas são listas ordenadas e imutáveis\n",
    "\n",
    "imc_min = 18.5\n",
    "imc_max = 24.9\n",
    "\n",
    "for individuo in altura_peso:\n",
    "    altura = individuo[0]\n",
    "    peso = individuo[1]\n",
    "    imc_calculo = peso / (altura ** 2)\n",
    "    \n",
    "   #print(imc_calculo)\n",
    "    \n",
    "    if imc_calculo < imc_min:\n",
    "       # print(f'{imc_calculo:.2f}: Abaixo do IMC')\n",
    "        imc_desc = f'{imc_calculo:.2f} Abaixo do IMC'\n",
    "        \n",
    "    if imc_calculo > imc_max:\n",
    "       # print(f'{imc_calculo:.2f}: Acima do IMC')\n",
    "        imc_desc = f'{imc_calculo:.2f} Acima do IMC'\n",
    "        \n",
    "    else:\n",
    "       # print(f'{imc_calculo:.2f}: IMC na média')\n",
    "        imc_desc = f'{imc_calculo:.2f} IMC na média'\n",
    "    \n",
    "    imc_resultados.append(imc_desc)\n",
    "\n",
    "imc_resultados\n",
    " \n"
   ]
  },
  {
   "cell_type": "code",
   "execution_count": null,
   "metadata": {},
   "outputs": [],
   "source": []
  }
 ],
 "metadata": {
  "kernelspec": {
   "display_name": "Python 3 (ipykernel)",
   "language": "python",
   "name": "python3"
  },
  "language_info": {
   "codemirror_mode": {
    "name": "ipython",
    "version": 3
   },
   "file_extension": ".py",
   "mimetype": "text/x-python",
   "name": "python",
   "nbconvert_exporter": "python",
   "pygments_lexer": "ipython3",
   "version": "3.11.7"
  }
 },
 "nbformat": 4,
 "nbformat_minor": 4
}
